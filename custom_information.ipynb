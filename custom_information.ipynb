{
 "cells": [
  {
   "cell_type": "code",
   "execution_count": null,
   "id": "f6660797-cc79-446d-8055-5f59d3ab08d6",
   "metadata": {},
   "outputs": [],
   "source": [
    "!pip install googlesearch-python\n",
    "!pip install googletrans\n",
    "!pip install gtts\n",
    "!pip install deep_translator\n",
    "import os\n",
    "import time\n",
    "import openai\n",
    "import requests\n",
    "import gradio as gr\n",
    "from bs4 import BeautifulSoup\n",
    "from googletrans import Translator\n",
    "from deep_translator import GoogleTranslator\n",
    "from gtts import gTTS\n",
    "import tempfile\n",
    "from googlesearch import search\n",
    "from urllib.parse import urlparse\n",
    "from dotenv import load_dotenv\n",
    "from openai import OpenAI\n"
   ]
  },
  {
   "cell_type": "code",
   "execution_count": 67,
   "id": "aafb2191-70bd-4e70-a2bb-8ad15be7c34d",
   "metadata": {},
   "outputs": [
    {
     "name": "stdout",
     "output_type": "stream",
     "text": [
      "your api is ready and starts with sk-proj-\n"
     ]
    }
   ],
   "source": [
    "load_dotenv(override=True)\n",
    "openai_api_key=os.getenv('OPENAI_API_KEY')\n",
    "                         \n",
    "if openai_api_key:\n",
    "    print(f'your api is ready and starts with {openai_api_key[:8]}')               \n",
    "                         \n",
    "                    "
   ]
  },
  {
   "cell_type": "code",
   "execution_count": 68,
   "id": "b71f285b-de12-4d48-a34f-d1aa8b5a183b",
   "metadata": {},
   "outputs": [],
   "source": [
    "openai=OpenAI()\n",
    "MODEL=\"gpt-4o-mini\""
   ]
  },
  {
   "cell_type": "code",
   "execution_count": 137,
   "id": "52dc3920-9f83-4cae-9734-8cf1d807fc3b",
   "metadata": {},
   "outputs": [],
   "source": [
    "#scrap the website content\n",
    "headers = {\n",
    " \"User-Agent\": \"Mozilla/5.0 (Windows NT 10.0; Win64; x64) AppleWebKit/537.36 (KHTML, like Gecko) Chrome/117.0.0.0 Safari/537.36\"\n",
    "}\n",
    "def scrape_website(url):\n",
    "    try:\n",
    "        res = requests.get(url, timeout=10, headers=headers)\n",
    "        res.raise_for_status()  \n",
    "        soup = BeautifulSoup(res.text, 'html.parser')\n",
    "        for element in soup(['script', 'style', 'nav', 'footer', 'aside', 'noscript', 'iframe', 'header']):\n",
    "            element.decompose()\n",
    "        for element in soup.find_all():\n",
    "            if len(element.get_text(strip=True)) == 0:\n",
    "                element.decompose()\n",
    "        text = soup.get_text(separator=' ', strip=True)\n",
    "        return text[:5000]\n",
    "    except Exception as e:\n",
    "        print(f\"Error: {e}\") \n",
    "        return \"unable to retrieve content from website\"\n"
   ]
  },
  {
   "cell_type": "code",
   "execution_count": 138,
   "id": "e2d19325-bf2f-4619-800b-3c22ae142b1b",
   "metadata": {},
   "outputs": [],
   "source": [
    "def is_valid_url(url):\n",
    "    \"\"\"Check if a URL is valid and properly formatted\"\"\"\n",
    "    try:\n",
    "        result = urlparse(url)\n",
    "        return all([result.scheme, result.netloc])\n",
    "    except ValueError:\n",
    "        return False"
   ]
  },
  {
   "cell_type": "code",
   "execution_count": 135,
   "id": "3034edf0-f4dc-4c0b-9a9e-deddebd383c7",
   "metadata": {},
   "outputs": [],
   "source": [
    "def info_google_search(query, num_results=7):\n",
    "    try:\n",
    "        results = []\n",
    "        for result in search(query, num_results=num_results, advanced=True):\n",
    "            if not is_valid_url(result.url):\n",
    "                print(f\"Skipping invalid URL: {result.url}\")\n",
    "                continue\n",
    "                \n",
    "            data = {\n",
    "                \"title\": result.title,\n",
    "                \"url\": result.url,\n",
    "                \"description\": result.description,\n",
    "                \"scraped_content\": scrape_website(result.url) if is_valid_url(result.url) else \"Invalid URL\"\n",
    "            }\n",
    "            results.append(data)\n",
    "            time.sleep(2)\n",
    "        return results\n",
    "    except Exception as e:\n",
    "        print(f\"Error: {e}\")\n",
    "        return []"
   ]
  },
  {
   "cell_type": "code",
   "execution_count": 128,
   "id": "45df03fd-961c-4307-a63d-16e3546a82cf",
   "metadata": {},
   "outputs": [],
   "source": [
    "#Build a system prompt\n",
    "def build_prompt(company_name, website_text, lang_name, search_results):\n",
    "    return f\"\"\"\n",
    "You are {company_name}'s AI assistant, responding in {lang_name}. Combine official company information with \n",
    "external insights to provide comprehensive, accurate responses.\n",
    "\n",
    "**Knowledge Base:**\n",
    "🔹 **Official Company Information:**\n",
    "{website_text}\n",
    "\n",
    "🔹 **Market Context (Top 7 Sources):**\n",
    "{search_results}\n",
    "\n",
    "**Response Requirements:**\n",
    "✓ Adapt communication style for {lang_name} cultural norms\n",
    "✓ Synthesize information from both sources when possible\n",
    "✓ Highlight official information when conflicts exist\n",
    "✓ Use markdown formatting for clarity (bullet points, bold key terms)\n",
    "✓provide links for information you provided if possible.\n",
    "✓respond in same way like some of the top llms like llama,gemini,openai responds\n",
    "\n",
    "\n",
    "\"\"\""
   ]
  },
  {
   "cell_type": "code",
   "execution_count": 117,
   "id": "1342ccf7-3d87-4902-a90d-04d179d069f5",
   "metadata": {},
   "outputs": [],
   "source": [
    "translator=Translator()\n"
   ]
  },
  {
   "cell_type": "code",
   "execution_count": 118,
   "id": "03dc2dec-e55a-48b0-b1d5-3e54e03f80cd",
   "metadata": {},
   "outputs": [],
   "source": [
    "def translate(text,target_lang):\n",
    "    try:\n",
    "        return GoogleTranslator(source='auto',target=target_lang).translate.text\n",
    "    except:\n",
    "        return text\n",
    "    \n",
    "   "
   ]
  },
  {
   "cell_type": "code",
   "execution_count": 119,
   "id": "1512d787-798b-4950-a257-abb8ded45dc0",
   "metadata": {},
   "outputs": [],
   "source": [
    "def speak(text,lang_code='en'):\n",
    "    tts=gTTS(text=text,lang=lang_code)\n",
    "    with tempfile.NamedTemporaryFile(delete=False, suffix=\".mp3\") as fp:\n",
    "        tts.save(fp.name)\n",
    "        return fp.name"
   ]
  },
  {
   "cell_type": "code",
   "execution_count": 120,
   "id": "8f1c5698-7dc2-4b09-81b5-4e621c8d9b00",
   "metadata": {},
   "outputs": [],
   "source": [
    "lang_map = {\n",
    "    \"English\": \"en\",\n",
    "    \"Spanish\": \"es\",\n",
    "    \"French\": \"fr\",\n",
    "    \"German\": \"de\",\n",
    "    \"Hindi\": \"hi\",\n",
    "    \"Arabic\": \"ar\",\n",
    "    \"Chinese (Simplified)\": \"zh-cn\"\n",
    "}\n"
   ]
  },
  {
   "cell_type": "code",
   "execution_count": 121,
   "id": "cb05065b-885d-4849-92dc-2da908d75281",
   "metadata": {},
   "outputs": [],
   "source": [
    "#main\n",
    "def chat(company_name,company_url,user_lang_label,user_input):\n",
    "    lang_code=lang_map[user_lang_label]\n",
    "    website_text=scrape_website(company_url)\n",
    "    results=info_google_search(company_name)\n",
    "    prompt=build_prompt(company_name,website_text,user_lang_label,results)\n",
    "    translated_input = translate(user_input, 'en') if lang_code != 'en' else user_input\n",
    "    messages = [{\"role\": \"system\", \"content\": prompt},\n",
    "                {\"role\": \"user\", \"content\": translated_input}]\n",
    "    \n",
    "    response = openai.chat.completions.create(\n",
    "        model=MODEL,\n",
    "        messages=messages\n",
    "    )\n",
    "    reply_en = response.choices[0].message.content.strip()  \n",
    " # Translate back to user language\n",
    "    reply_user_lang =translate(reply_en, lang_code) if lang_code != 'en' else reply_en\n",
    "    audio_path = speak(reply_user_lang, lang_code)\n",
    "\n",
    "    return reply_user_lang, audio_path\n",
    "    "
   ]
  },
  {
   "cell_type": "code",
   "execution_count": 143,
   "id": "eb7719ed-477c-4b6b-a475-f3bf54f0796c",
   "metadata": {},
   "outputs": [
    {
     "name": "stdout",
     "output_type": "stream",
     "text": [
      "* Running on local URL:  http://127.0.0.1:7880\n",
      "\n",
      "Could not create share link. Please check your internet connection or our status page: https://status.gradio.app.\n"
     ]
    },
    {
     "data": {
      "text/html": [
       "<div><iframe src=\"http://127.0.0.1:7880/\" width=\"100%\" height=\"500\" allow=\"autoplay; camera; microphone; clipboard-read; clipboard-write;\" frameborder=\"0\" allowfullscreen></iframe></div>"
      ],
      "text/plain": [
       "<IPython.core.display.HTML object>"
      ]
     },
     "metadata": {},
     "output_type": "display_data"
    },
    {
     "data": {
      "text/plain": []
     },
     "execution_count": 143,
     "metadata": {},
     "output_type": "execute_result"
    }
   ],
   "source": [
    "iface = gr.Interface(\n",
    "    fn=chat,\n",
    "    \n",
    "    inputs=[\n",
    "        gr.Text(label=\"Company Name\"),\n",
    "        gr.Text(label=\"Company Website URL\"),\n",
    "        gr.Dropdown(label=\"Preferred Language\", choices=list(lang_map.keys()), value=\"English\"),\n",
    "        gr.Textbox(label=\"Your Question\")\n",
    "    ],\n",
    "    outputs=[\n",
    "        gr.Textbox(label=\"Bot Response\"),\n",
    "        gr.Audio(label=\"Voice Output\")\n",
    "    ],\n",
    "    title=\"Voice-Activated Information Service for Multiple Languages\",\n",
    "    description=\"Custom chatbot for any company. Just input company name, website, and your preferred language.\"\n",
    ")\n",
    "\n",
    "iface.launch(share=True)"
   ]
  },
  {
   "cell_type": "code",
   "execution_count": null,
   "id": "7e367864-f9a9-42b6-a042-4e794631da36",
   "metadata": {},
   "outputs": [],
   "source": []
  }
 ],
 "metadata": {
  "kernelspec": {
   "display_name": "Python 3 (ipykernel)",
   "language": "python",
   "name": "python3"
  },
  "language_info": {
   "codemirror_mode": {
    "name": "ipython",
    "version": 3
   },
   "file_extension": ".py",
   "mimetype": "text/x-python",
   "name": "python",
   "nbconvert_exporter": "python",
   "pygments_lexer": "ipython3",
   "version": "3.11.12"
  }
 },
 "nbformat": 4,
 "nbformat_minor": 5
}
